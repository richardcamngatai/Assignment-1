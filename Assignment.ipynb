{
 "cells": [
  {
   "cell_type": "code",
   "execution_count": 7,
   "metadata": {},
   "outputs": [],
   "source": [
    "#Part 1\n",
    "\n",
    "def transform_list(input_list):\n",
    "    output_list = []\n",
    "    \n",
    "    new_list = input_list.copy()\n",
    "    \n",
    "    new_list.reverse()\n",
    "    \n",
    "    new_list.insert(3, 'z')\n",
    "    \n",
    "    new_list.append('o')\n",
    "    \n",
    "    output_list = new_list\n",
    "    return output_list\n",
    "\n",
    "def main():\n",
    "    result = transform_list([\"a\", \"b\", \"c\", \"d\", \"e\"])\n",
    "    expected = [\"e\", \"d\", \"c\", \"z\", \"b\", \"a\", \"o\"]\n",
    "    assert sorted(expected) == sorted(result)\n",
    "\n",
    "main()\n"
   ]
  },
  {
   "cell_type": "code",
   "execution_count": null,
   "metadata": {},
   "outputs": [],
   "source": []
  }
 ],
 "metadata": {
  "kernelspec": {
   "display_name": "Python 3",
   "language": "python",
   "name": "python3"
  },
  "language_info": {
   "codemirror_mode": {
    "name": "ipython",
    "version": 3
   },
   "file_extension": ".py",
   "mimetype": "text/x-python",
   "name": "python",
   "nbconvert_exporter": "python",
   "pygments_lexer": "ipython3",
   "version": "3.12.3"
  }
 },
 "nbformat": 4,
 "nbformat_minor": 2
}
