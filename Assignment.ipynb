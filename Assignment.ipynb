{
 "cells": [
  {
   "cell_type": "code",
   "execution_count": 11,
   "metadata": {},
   "outputs": [],
   "source": [
    "#Part 1.1\n",
    "\n",
    "def transform_list(input_list):\n",
    "    output_list = []\n",
    "    \n",
    "    new_list = input_list.copy()\n",
    "    \n",
    "    new_list.reverse()\n",
    "    \n",
    "    new_list.insert(3, 'z')\n",
    "    \n",
    "    new_list.append('o')\n",
    "    \n",
    "    output_list = new_list\n",
    "    return output_list\n",
    "\n",
    "def main():\n",
    "    result = transform_list([\"a\", \"b\", \"c\", \"d\", \"e\"])\n",
    "    expected = [\"e\", \"d\", \"c\", \"z\", \"b\", \"a\", \"o\"]\n",
    "    assert sorted(expected) == sorted(result)\n",
    "\n",
    "main()\n"
   ]
  },
  {
   "cell_type": "code",
   "execution_count": 12,
   "metadata": {},
   "outputs": [],
   "source": [
    "#Part 1.2\n",
    "\n",
    "from typing import List, Dict\n",
    "\n",
    "def convert_to_dict(key_list: List[str], value_list: List[int]) -> Dict[str, int]:\n",
    "    output_dict: Dict[str, int] = {}\n",
    "    \n",
    "    for key, value in zip(key_list, value_list):\n",
    "        output_dict[key] = value * 100\n",
    "    \n",
    "    return output_dict\n",
    "\n",
    "def main():\n",
    "    result: Dict[str, int] = convert_to_dict([\"Ten\", \"Twenty\", \"Thirty\"], [10, 20, 30])\n",
    "    expected: Dict[str, int] = {\"Ten\": 1000, \"Twenty\": 2000, \"Thirty\": 3000}\n",
    "    assert result == expected\n",
    "\n",
    "if __name__ == \"__main__\":\n",
    "    main()"
   ]
  },
  {
   "cell_type": "code",
   "execution_count": 13,
   "metadata": {},
   "outputs": [
    {
     "name": "stdout",
     "output_type": "stream",
     "text": [
      "* \n",
      "\n",
      "\n",
      "* \n",
      "* * \n",
      "* * * \n",
      "* * * * \n",
      "* * * \n",
      "* * \n",
      "* \n",
      "\n",
      "\n",
      "* \n",
      "* * \n",
      "* * * \n",
      "* * * * \n",
      "* * * * * \n",
      "* * * * * * \n",
      "* * * * * * * \n",
      "* * * * * * * * \n",
      "* * * * * * * * * \n",
      "* * * * * * * * * * \n",
      "* * * * * * * * * \n",
      "* * * * * * * * \n",
      "* * * * * * * \n",
      "* * * * * * \n",
      "* * * * * \n",
      "* * * * \n",
      "* * * \n",
      "* * \n",
      "* \n",
      "\n"
     ]
    }
   ],
   "source": [
    "#Part 1.3\n",
    "\n",
    "def print_pattern(n: int):\n",
    "    for i in range(1, n + 1):\n",
    "        print('* ' * i)\n",
    "\n",
    "    for i in range(n - 1, 0, -1):\n",
    "        print('* ' * i)\n",
    "\n",
    "def main():\n",
    "    print_pattern(1)\n",
    "    print(\"\\n\")\n",
    "    print_pattern(4)\n",
    "    print(\"\\n\")\n",
    "    print_pattern(10)\n",
    "\n",
    "if __name__ == \"__main__\":\n",
    "    main()\n",
    "\n",
    "print()"
   ]
  }
 ],
 "metadata": {
  "kernelspec": {
   "display_name": "Python 3",
   "language": "python",
   "name": "python3"
  },
  "language_info": {
   "codemirror_mode": {
    "name": "ipython",
    "version": 3
   },
   "file_extension": ".py",
   "mimetype": "text/x-python",
   "name": "python",
   "nbconvert_exporter": "python",
   "pygments_lexer": "ipython3",
   "version": "3.12.3"
  }
 },
 "nbformat": 4,
 "nbformat_minor": 2
}
